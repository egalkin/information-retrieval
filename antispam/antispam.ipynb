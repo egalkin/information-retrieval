{
 "cells": [
  {
   "cell_type": "markdown",
   "metadata": {},
   "source": [
    "### Read train set and decode data"
   ]
  },
  {
   "cell_type": "code",
   "execution_count": 5,
   "metadata": {},
   "outputs": [],
   "source": [
    "import base64\n",
    "import codecs\n",
    "import nltk"
   ]
  },
  {
   "cell_type": "code",
   "execution_count": null,
   "metadata": {},
   "outputs": [],
   "source": [
    "nltk.download(\"stopwords\")"
   ]
  },
  {
   "cell_type": "code",
   "execution_count": null,
   "metadata": {},
   "outputs": [],
   "source": [
    "text_corpus = []\n",
    "Y = []\n",
    "\n",
    "with codecs.open('kaggle_train_data_tab.csv', 'r', 'utf8') as file:\n",
    "    file.readline()\n",
    "    i = 1\n",
    "    for line in file:\n",
    "        processed_line = line.split('\\t')\n",
    "        decoded_html = base64.b64decode(processed_line[3]).decode('utf8', errors='replace')\n",
    "        Y.append(int(processed_line[0]))\n",
    "        text_corpus.append(decoded_html)\n",
    "    "
   ]
  },
  {
   "cell_type": "code",
   "execution_count": null,
   "metadata": {},
   "outputs": [],
   "source": [
    "# text_corpus = []\n",
    "# Y = []\n",
    "\n",
    "# with codecs.open('decoded_html.csv', 'r', 'utf8') as file:\n",
    "#     file.readline()\n",
    "#     for line in file:\n",
    "#         processed_line = line.split('\\t')\n",
    "#         Y.append(int(processed_line[0]))\n",
    "#         text_corpus.append(processed_line[1])\n",
    "        "
   ]
  },
  {
   "cell_type": "code",
   "execution_count": 8,
   "metadata": {},
   "outputs": [],
   "source": [
    "from nltk.corpus import stopwords\n",
    "stop_words = stopwords.words('russian') + stopwords.words('english')"
   ]
  },
  {
   "cell_type": "code",
   "execution_count": 10,
   "metadata": {},
   "outputs": [],
   "source": [
    "from sklearn.feature_extraction.text import TfidfVectorizer"
   ]
  },
  {
   "cell_type": "code",
   "execution_count": null,
   "metadata": {},
   "outputs": [],
   "source": [
    "vectorizer = TfidfVectorizer(stop_words = stop_words, ngram_range=(1,3))\n",
    "X = vectorizer.fit_transform(text_corpus)"
   ]
  },
  {
   "cell_type": "code",
   "execution_count": null,
   "metadata": {},
   "outputs": [],
   "source": [
    "print(X.shape)\n",
    "print(len(Y))"
   ]
  },
  {
   "cell_type": "code",
   "execution_count": 2,
   "metadata": {},
   "outputs": [],
   "source": [
    "from sklearn import svm"
   ]
  },
  {
   "cell_type": "code",
   "execution_count": 3,
   "metadata": {},
   "outputs": [],
   "source": [
    "# clf = svm.SVC()\n",
    "# clf.fit(X, Y)\n",
    "clf = svm.SVC(C=1.0, break_ties=False, cache_size=200, class_weight=None, coef0=0.0,\n",
    "    decision_function_shape='ovr', degree=3, gamma='scale', kernel='rbf',\n",
    "    max_iter=-1, probability=False, random_state=None, shrinking=True,\n",
    "    tol=0.001, verbose=False)"
   ]
  },
  {
   "cell_type": "code",
   "execution_count": 6,
   "metadata": {},
   "outputs": [
    {
     "name": "stdout",
     "output_type": "stream",
     "text": [
      "SVC(C=1.0, break_ties=False, cache_size=200, class_weight=None, coef0=0.0,\n",
      "    decision_function_shape='ovr', degree=3, gamma='scale', kernel='rbf',\n",
      "    max_iter=-1, probability=False, random_state=None, shrinking=True,\n",
      "    tol=0.001, verbose=False)\n"
     ]
    }
   ],
   "source": [
    "print(clf)\n",
    "test_text_corpus = []\n",
    "Y_Test = []\n",
    "Ids = []\n",
    "\n",
    "with codecs.open('kaggle_train_data_tab.csv', 'r') as file:\n",
    "    file.readline()\n",
    "    for line in file:\n",
    "        processed_line = line.split('\\t')\n",
    "        Ids.append(int(processed_line[0]))\n",
    "        Y_Test.append(int(processed_line[1]))\n",
    "        test_text_corpus.append(base64.b64decode(processed_line[3]).decode('utf8', errors='replace'))\n",
    "    \n"
   ]
  },
  {
   "cell_type": "code",
   "execution_count": 11,
   "metadata": {},
   "outputs": [],
   "source": [
    "vectorizer = TfidfVectorizer(stop_words = stop_words, ngram_range=(1,3))\n",
    "X_Test = vectorizer.fit_transform(test_text_corpus)"
   ]
  },
  {
   "cell_type": "code",
   "execution_count": null,
   "metadata": {},
   "outputs": [],
   "source": []
  }
 ],
 "metadata": {
  "kernelspec": {
   "display_name": "Python 3",
   "language": "python",
   "name": "python3"
  },
  "language_info": {
   "codemirror_mode": {
    "name": "ipython",
    "version": 3
   },
   "file_extension": ".py",
   "mimetype": "text/x-python",
   "name": "python",
   "nbconvert_exporter": "python",
   "pygments_lexer": "ipython3",
   "version": "3.7.3"
  }
 },
 "nbformat": 4,
 "nbformat_minor": 2
}
